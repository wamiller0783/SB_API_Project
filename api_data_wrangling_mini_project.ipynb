{
 "cells": [
  {
   "cell_type": "markdown",
   "metadata": {},
   "source": [
    "This exercise will require you to pull some data from the Qunadl API. Qaundl is currently the most widely used aggregator of financial market data."
   ]
  },
  {
   "cell_type": "markdown",
   "metadata": {},
   "source": [
    "As a first step, you will need to register a free account on the http://www.quandl.com website."
   ]
  },
  {
   "cell_type": "markdown",
   "metadata": {},
   "source": [
    "After you register, you will be provided with a unique API key, that you should store:"
   ]
  },
  {
   "cell_type": "code",
   "execution_count": 1,
   "metadata": {},
   "outputs": [],
   "source": [
    "# Store the API key as a string - according to PEP8, constants are always named in all upper case\n",
    "API_KEY = 'xW9UxykeN-UfbZT9CjKv'"
   ]
  },
  {
   "cell_type": "markdown",
   "metadata": {},
   "source": [
    "Qaundl has a large number of data sources, but, unfortunately, most of them require a Premium subscription. Still, there are also a good number of free datasets."
   ]
  },
  {
   "cell_type": "markdown",
   "metadata": {},
   "source": [
    "For this mini project, we will focus on equities data from the Frankfurt Stock Exhange (FSE), which is available for free. We'll try and analyze the stock prices of a company called Carl Zeiss Meditec, which manufactures tools for eye examinations, as well as medical lasers for laser eye surgery: https://www.zeiss.com/meditec/int/home.html. The company is listed under the stock ticker AFX_X."
   ]
  },
  {
   "cell_type": "markdown",
   "metadata": {},
   "source": [
    "You can find the detailed Quandl API instructions here: https://docs.quandl.com/docs/time-series"
   ]
  },
  {
   "cell_type": "markdown",
   "metadata": {},
   "source": [
    "While there is a dedicated Python package for connecting to the Quandl API, we would prefer that you use the *requests* package, which can be easily downloaded using *pip* or *conda*. You can find the documentation for the package here: http://docs.python-requests.org/en/master/ "
   ]
  },
  {
   "cell_type": "markdown",
   "metadata": {},
   "source": [
    "Finally, apart from the *requests* package, you are encouraged to not use any third party Python packages, such as *pandas*, and instead focus on what's available in the Python Standard Library (the *collections* module might come in handy: https://pymotw.com/3/collections/).\n",
    "Also, since you won't have access to DataFrames, you are encouraged to us Python's native data structures - preferably dictionaries, though some questions can also be answered using lists.\n",
    "You can read more on these data structures here: https://docs.python.org/3/tutorial/datastructures.html"
   ]
  },
  {
   "cell_type": "markdown",
   "metadata": {},
   "source": [
    "Keep in mind that the JSON responses you will be getting from the API map almost one-to-one to Python's dictionaries. Unfortunately, they can be very nested, so make sure you read up on indexing dictionaries in the documentation provided above."
   ]
  },
  {
   "cell_type": "code",
   "execution_count": 2,
   "metadata": {},
   "outputs": [],
   "source": [
    "# First, import the relevant modules\n",
    "import requests"
   ]
  },
  {
   "cell_type": "code",
   "execution_count": 3,
   "metadata": {},
   "outputs": [],
   "source": [
    "# Now, call the Quandl API and pull out a small sample of the data (only one day) to get a glimpse\n",
    "# into the JSON structure that will be returned\n",
    "r = requests.get('https://www.quandl.com/api/v3/datasets/FSE/EON_X.json?api_key='+API_KEY+'&start_date=2018-06-28&end_date=2018-06-28')"
   ]
  },
  {
   "cell_type": "code",
   "execution_count": 4,
   "metadata": {},
   "outputs": [
    {
     "name": "stdout",
     "output_type": "stream",
     "text": [
      "{'dataset': {'id': 36592406, 'dataset_code': 'EON_X', 'database_code': 'FSE', 'name': 'E.on Se (EON_X)', 'description': 'Stock Prices for E.on Se (EON) from the Frankfurt Stock Exchange.<br><br>Trading System: Xetra<br><br>ISIN: DE000ENAG999', 'refreshed_at': '2018-06-29T22:31:03.286Z', 'newest_available_date': '2018-06-29', 'oldest_available_date': '2003-01-20', 'column_names': ['Date', 'Open', 'High', 'Low', 'Close', 'Change', 'Traded Volume', 'Turnover', 'Last Price of the Day', 'Daily Traded Units', 'Daily Turnover'], 'frequency': 'daily', 'type': 'Time Series', 'premium': False, 'limit': None, 'transform': None, 'column_index': None, 'start_date': '2018-06-28', 'end_date': '2018-06-28', 'data': [['2018-06-28', None, 9.248, 9.055, 9.093, None, 10181875.0, 92959149.0, None, None, None]], 'collapse': None, 'order': None, 'database_id': 6129}}\n"
     ]
    }
   ],
   "source": [
    "# Inspect the JSON structure of the object you created, and take note of how nested it is,\n",
    "# as well as the overall structure\n",
    "print(r.json())"
   ]
  },
  {
   "cell_type": "markdown",
   "metadata": {},
   "source": [
    "These are your tasks for this mini project:\n",
    "\n",
    "1. Collect data from the Franfurt Stock Exchange, for the ticker AFX_X, for the whole year 2017 (keep in mind that the date format is YYYY-MM-DD).\n",
    "2. Convert the returned JSON object into a Python dictionary.\n",
    "3. Calculate what the highest and lowest opening prices were for the stock in this period.\n",
    "4. What was the largest change in any one day (based on High and Low price)?\n",
    "5. What was the largest change between any two days (based on Closing Price)?\n",
    "6. What was the average daily trading volume during this year?\n",
    "7. (Optional) What was the median trading volume during this year. (Note: you may need to implement your own function for calculating the median.)"
   ]
  },
  {
   "cell_type": "markdown",
   "metadata": {},
   "source": [
    "1) Collect data from the Franfurt Stock Exchange, for the ticker AFX_X, for the whole year 2017 (keep in mind that the date format is YYYY-MM-DD)."
   ]
  },
  {
   "cell_type": "code",
   "execution_count": 5,
   "metadata": {},
   "outputs": [],
   "source": [
    "# Set start date (stored in variable for future use)\n",
    "r_start_date = '2017-01-01'\n",
    "# Set end date (also stored for future use)\n",
    "r_end_date = '2017-12-31'\n",
    "# Make API request\n",
    "r = requests.get('https://www.quandl.com/api/v3/datasets/FSE/AFX_X.json?api_key='\\\n",
    "                 +API_KEY+'&start_date='+r_start_date+'&end_date='+r_end_date)"
   ]
  },
  {
   "cell_type": "markdown",
   "metadata": {},
   "source": [
    "2) Convert the returned JSON object into a Python dictionary."
   ]
  },
  {
   "cell_type": "code",
   "execution_count": 6,
   "metadata": {},
   "outputs": [],
   "source": [
    "# Initialize dictionary\n",
    "stock_dict = {}\n",
    "# Create dictionary, with dates as the keys for the data in each column.\n",
    "for data in r.json()['dataset']['data']:\n",
    "    stock_dict[data[0]] = dict(zip(r.json()['dataset']['column_names'][1:], data[1:]))"
   ]
  },
  {
   "cell_type": "code",
   "execution_count": 7,
   "metadata": {},
   "outputs": [],
   "source": [
    "def list_from_key(dct, key):\n",
    "    \"\"\"\n",
    "    Input: Dictionary of sub-dictionaries, and key that is contained in each \n",
    "        sub-dictionary.\n",
    "    Output: A list of values contained within that key in each sub-dictionary\n",
    "        with all NoneType entries removed.\n",
    "    \"\"\"\n",
    "    out_list = []\n",
    "    # Iterated through the sub-dictionaries, appending the value stored under the key\n",
    "    # in each to a list\n",
    "    for k in dct:\n",
    "        out_list.append(dct[k][key])\n",
    "    # Remove instances of NoneType to allow max() and min() functions to... function.\n",
    "    out_list = [x for x in out_list if x is not None]\n",
    "    return out_list"
   ]
  },
  {
   "cell_type": "markdown",
   "metadata": {},
   "source": [
    "3) Calculate what the highest and lowest opening prices were for the stock in this period."
   ]
  },
  {
   "cell_type": "code",
   "execution_count": 8,
   "metadata": {},
   "outputs": [
    {
     "name": "stdout",
     "output_type": "stream",
     "text": [
      "The highest opening price for stock AFX_X betweeen 2017-01-01 and 2017-12-31 was 53.11\n",
      "The lowest opening price for stock AFX_X betweeen 2017-01-01 and 2017-12-31 was 34.00\n"
     ]
    }
   ],
   "source": [
    "# Retreive \"Open\" values for each day using list_from_key function\n",
    "opening_prices_list = list_from_key(stock_dict, 'Open')\n",
    "\n",
    "# Print highest opening price in list using max().\n",
    "print('The highest opening price for stock ' + r.json()['dataset']['dataset_code'] +\\\n",
    "      ' betweeen ' + r_start_date + ' and ' + r_end_date + ' was ' +\\\n",
    "      '%.2f' % max(opening_prices_list))\n",
    "\n",
    "# Print lowest opening price in list using min().\n",
    "print('The lowest opening price for stock ' + r.json()['dataset']['dataset_code'] +\\\n",
    "      ' betweeen ' + r_start_date + ' and ' + r_end_date + ' was ' +\\\n",
    "      '%.2f' % min(opening_prices_list))"
   ]
  },
  {
   "cell_type": "markdown",
   "metadata": {},
   "source": [
    "4) What was the largest change in any one day (based on High and Low price)?"
   ]
  },
  {
   "cell_type": "code",
   "execution_count": 9,
   "metadata": {},
   "outputs": [
    {
     "name": "stdout",
     "output_type": "stream",
     "text": [
      "The largest change in any one day for stock AFX_X betweeen 2017-01-01 and 2017-12-31 was 2.81\n"
     ]
    }
   ],
   "source": [
    "# Initalize empty list to store changes.\n",
    "high_low_diffs = []\n",
    "# Compute the difference between high and low for each day, appending to list.\n",
    "for k in stock_dict:\n",
    "    high_low_diffs.append(stock_dict[k]['High']-stock_dict[k]['Low'])\n",
    "\n",
    "# Print largest change using max() on computation performed above.\n",
    "print('The largest change in any one day for stock ' + r.json()['dataset']['dataset_code'] +\\\n",
    "      ' betweeen ' + r_start_date + ' and ' + r_end_date + ' was ' +\\\n",
    "      '%.2f' % max(high_low_diffs))"
   ]
  },
  {
   "cell_type": "markdown",
   "metadata": {},
   "source": [
    "5) What was the largest change between any two days (based on Closing Price)?"
   ]
  },
  {
   "cell_type": "code",
   "execution_count": 10,
   "metadata": {},
   "outputs": [
    {
     "name": "stdout",
     "output_type": "stream",
     "text": [
      "The largest change between any two days for stock AFX_X betweeen 2017-01-01 and 2017-12-31 was 2.56\n"
     ]
    }
   ],
   "source": [
    "# Initialize empty list to store changes between days.\n",
    "daily_changes = []\n",
    "# Set last_day to None to facilitate offset of days.\n",
    "last_day = None\n",
    "# Iterate through each day stored in stock_dict.\n",
    "for day in stock_dict:\n",
    "    # Do nothing if last_day is equal to None.\n",
    "    if last_day != None:\n",
    "        \"\"\"Calculate the absolute value of the difference\n",
    "          between previously iterated day and the current day.\n",
    "          Append this value to the list daily_changes.\n",
    "          \"\"\"\n",
    "        daily_changes.append(abs(stock_dict[day]['Close']-stock_dict[last_day]['Close']))\n",
    "    # Set last day to the current day.\n",
    "    last_day = day\n",
    "\n",
    "# Print largest change between two days using max() on computation performed above.\n",
    "print('The largest change between any two days for stock ' +\\\n",
    "      r.json()['dataset']['dataset_code'] + ' betweeen ' + r_start_date +\\\n",
    "      ' and ' + r_end_date + ' was ' + '%.2f' % max(daily_changes))   "
   ]
  },
  {
   "cell_type": "markdown",
   "metadata": {},
   "source": [
    "6) What was the average daily trading volume during this year?"
   ]
  },
  {
   "cell_type": "code",
   "execution_count": 11,
   "metadata": {},
   "outputs": [
    {
     "name": "stdout",
     "output_type": "stream",
     "text": [
      "The average daily trading volume for stock AFX_X betweeen 2017-01-01 and 2017-12-31 was 89124.34\n"
     ]
    }
   ],
   "source": [
    "# Retreive \"Traded Volume\" values for each day using list_from_key function\n",
    "daily_volume = list_from_key(stock_dict, 'Traded Volume')\n",
    "\n",
    "# Print average of daily_volume list using sum() and len() functions.\n",
    "print('The average daily trading volume for stock ' +\\\n",
    "      r.json()['dataset']['dataset_code'] + ' betweeen ' + r_start_date +\\\n",
    "      ' and ' + r_end_date + ' was ' + '%.2f' % (sum(daily_volume)/len(daily_volume)))   "
   ]
  },
  {
   "cell_type": "markdown",
   "metadata": {},
   "source": [
    "7) (Optional) What was the median trading volume during this year. (Note: you may need to implement your own function for calculating the median.)"
   ]
  },
  {
   "cell_type": "code",
   "execution_count": 12,
   "metadata": {},
   "outputs": [
    {
     "name": "stdout",
     "output_type": "stream",
     "text": [
      "The median trading volume for stock AFX_X betweeen 2017-01-01 and 2017-12-31 was 76600.00\n"
     ]
    }
   ],
   "source": [
    "def median_of_list(num_list):\n",
    "    \"\"\"\n",
    "    Input: list of numbers\n",
    "    Output: the median value in that list\n",
    "    \"\"\"\n",
    "    # If the length of the list is even...\n",
    "    if len(num_list) % 2 == 0:\n",
    "        # ... then its median is the average of the middle two numbers.\n",
    "        med = (sorted(num_list)[len(num_list)/2 - 1] +\\\n",
    "        sorted(num_list)[len(num_list)/2 + 1])/2\n",
    "   # Else, if the length of the list is odd.\n",
    "    else:\n",
    "        # ... then its median is equal to the middle number.\n",
    "        med = sorted(num_list)[int(len(num_list)/2) + 1]\n",
    "    return med\n",
    "\n",
    "# Print the median of the list daily_volume using the function defined above.\n",
    "print('The median trading volume for stock ' +\\\n",
    "      r.json()['dataset']['dataset_code'] + ' betweeen ' + r_start_date +\\\n",
    "      ' and ' + r_end_date + ' was ' + '%.2f' % median_of_list(daily_volume))"
   ]
  },
  {
   "cell_type": "code",
   "execution_count": null,
   "metadata": {},
   "outputs": [],
   "source": []
  }
 ],
 "metadata": {
  "hide_input": false,
  "kernelspec": {
   "display_name": "Python 3",
   "language": "python",
   "name": "python3"
  },
  "language_info": {
   "codemirror_mode": {
    "name": "ipython",
    "version": 3
   },
   "file_extension": ".py",
   "mimetype": "text/x-python",
   "name": "python",
   "nbconvert_exporter": "python",
   "pygments_lexer": "ipython3",
   "version": "3.6.5"
  }
 },
 "nbformat": 4,
 "nbformat_minor": 2
}
